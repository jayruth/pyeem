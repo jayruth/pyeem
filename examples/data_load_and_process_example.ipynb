{
 "cells": [
  {
   "cell_type": "markdown",
   "metadata": {},
   "source": [
    "# Example of loading and processing raw EEM data\n",
    "\n",
    "* Required meta data columns in CSV/excel\n",
    "* Loading EEMs\n",
    "* Process them, including blank subtraction\n",
    "* Example with different metadata and no blank subtraction or Raman normalization\n",
    "* Create function to show porcessing steps\n",
    "    - How to store the order this was conducted in?\n"
   ]
  },
  {
   "cell_type": "code",
   "execution_count": 1,
   "metadata": {},
   "outputs": [
    {
     "name": "stdout",
     "output_type": "stream",
     "text": [
      "pyeem version 0.1\n"
     ]
    }
   ],
   "source": [
    "import pyeem"
   ]
  },
  {
   "cell_type": "code",
   "execution_count": 2,
   "metadata": {},
   "outputs": [
    {
     "name": "stdout",
     "output_type": "stream",
     "text": [
      "pyeem version 0.1\n"
     ]
    }
   ],
   "source": [
    "# for development - remove when example notebook is complete\n",
    "def reload_pyeem():\n",
    "    import importlib\n",
    "    importlib.reload(pyeem.data_process)\n",
    "    importlib.reload(pyeem)\n",
    "    return\n",
    "reload_pyeem()"
   ]
  },
  {
   "cell_type": "markdown",
   "metadata": {},
   "source": [
    "### Step 1 - generate a pandas dataframe with the required meta data"
   ]
  },
  {
   "cell_type": "code",
   "execution_count": 3,
   "metadata": {},
   "outputs": [],
   "source": [
    "meta_data = pyeem.load_eem_meta_data('example_data\\Description_Example.xlsx')"
   ]
  },
  {
   "cell_type": "markdown",
   "metadata": {},
   "source": [
    "- The columns 'File_Name' and 'Folder' are required, they point to the data files containing the eems to be loaded.\n",
    "- 'Blank' and 'Raman_Area' are required if `pyeem.blank_subtract` and `pyeem.raman_normalize` functions will be used.\n",
    "- All other columns are optional, as many columns as needed to describe the data may be included."
   ]
  },
  {
   "cell_type": "code",
   "execution_count": 4,
   "metadata": {},
   "outputs": [
    {
     "data": {
      "text/html": [
       "<div>\n",
       "<style scoped>\n",
       "    .dataframe tbody tr th:only-of-type {\n",
       "        vertical-align: middle;\n",
       "    }\n",
       "\n",
       "    .dataframe tbody tr th {\n",
       "        vertical-align: top;\n",
       "    }\n",
       "\n",
       "    .dataframe thead th {\n",
       "        text-align: right;\n",
       "    }\n",
       "</style>\n",
       "<table border=\"1\" class=\"dataframe\">\n",
       "  <thead>\n",
       "    <tr style=\"text-align: right;\">\n",
       "      <th></th>\n",
       "      <th>File_Name</th>\n",
       "      <th>Folder</th>\n",
       "      <th>Blank</th>\n",
       "      <th>Raman_Area</th>\n",
       "      <th>Desc</th>\n",
       "      <th>Type</th>\n",
       "    </tr>\n",
       "  </thead>\n",
       "  <tbody>\n",
       "    <tr>\n",
       "      <th>0</th>\n",
       "      <td>ZEF0119_Cig_5ugmL</td>\n",
       "      <td>20180227</td>\n",
       "      <td>20180227_BCycHex0p5sec</td>\n",
       "      <td>1146.3</td>\n",
       "      <td>Cigarette 5 µg/mL</td>\n",
       "      <td>Sample</td>\n",
       "    </tr>\n",
       "    <tr>\n",
       "      <th>1</th>\n",
       "      <td>ZEF0132_Diesel_5ugmL</td>\n",
       "      <td>20180227</td>\n",
       "      <td>20180227_BCycHex0p5sec</td>\n",
       "      <td>1146.3</td>\n",
       "      <td>Diesel 5 µg/mL</td>\n",
       "      <td>Sample</td>\n",
       "    </tr>\n",
       "    <tr>\n",
       "      <th>2</th>\n",
       "      <td>ZEF00134_Wood_5ugmL</td>\n",
       "      <td>20180227</td>\n",
       "      <td>20180227_BCycHex0p5sec</td>\n",
       "      <td>1146.3</td>\n",
       "      <td>Wood Smoke 5 µg/mL</td>\n",
       "      <td>Sample</td>\n",
       "    </tr>\n",
       "    <tr>\n",
       "      <th>3</th>\n",
       "      <td>20180227_BCycHex0p5sec</td>\n",
       "      <td>20180227</td>\n",
       "      <td>20180227_BCycHex0p5sec</td>\n",
       "      <td>1146.3</td>\n",
       "      <td>2018-01-27 Cyclohexane Blank</td>\n",
       "      <td>Blank</td>\n",
       "    </tr>\n",
       "  </tbody>\n",
       "</table>\n",
       "</div>"
      ],
      "text/plain": [
       "                File_Name    Folder                   Blank  Raman_Area  \\\n",
       "0       ZEF0119_Cig_5ugmL  20180227  20180227_BCycHex0p5sec      1146.3   \n",
       "1    ZEF0132_Diesel_5ugmL  20180227  20180227_BCycHex0p5sec      1146.3   \n",
       "2     ZEF00134_Wood_5ugmL  20180227  20180227_BCycHex0p5sec      1146.3   \n",
       "3  20180227_BCycHex0p5sec  20180227  20180227_BCycHex0p5sec      1146.3   \n",
       "\n",
       "                           Desc    Type  \n",
       "0             Cigarette 5 µg/mL  Sample  \n",
       "1                Diesel 5 µg/mL  Sample  \n",
       "2            Wood Smoke 5 µg/mL  Sample  \n",
       "3  2018-01-27 Cyclohexane Blank   Blank  "
      ]
     },
     "execution_count": 4,
     "metadata": {},
     "output_type": "execute_result"
    }
   ],
   "source": [
    "meta_data"
   ]
  },
  {
   "cell_type": "markdown",
   "metadata": {},
   "source": [
    "### Step 2 - Initialize a h5 file and save the meta data in it."
   ]
  },
  {
   "cell_type": "code",
   "execution_count": null,
   "metadata": {},
   "outputs": [],
   "source": [
    "pyeem.init_h5_database(\"EEM_data.h5\", meta_data, overwrite=True)"
   ]
  },
  {
   "cell_type": "code",
   "execution_count": 6,
   "metadata": {},
   "outputs": [
    {
     "ename": "OSError",
     "evalue": "EEM_data.h5 not found - please run pyeem.init_h5_database first",
     "output_type": "error",
     "traceback": [
      "\u001b[1;31m---------------------------------------------------------------------------\u001b[0m",
      "\u001b[1;31mFileNotFoundError\u001b[0m                         Traceback (most recent call last)",
      "\u001b[1;32mc:\\users\\jay\\dropbox\\pyeem\\pyeem\\data_process.py\u001b[0m in \u001b[0;36mload_eems\u001b[1;34m(database_name, data_dir)\u001b[0m\n\u001b[0;32m     92\u001b[0m         \u001b[1;31m#load EEM file names from the metadata stored in the h5 database as np.array\u001b[0m\u001b[1;33m\u001b[0m\u001b[1;33m\u001b[0m\u001b[0m\n\u001b[1;32m---> 93\u001b[1;33m         \u001b[0mfile_names\u001b[0m \u001b[1;33m=\u001b[0m \u001b[0mnp\u001b[0m\u001b[1;33m.\u001b[0m\u001b[0marray\u001b[0m\u001b[1;33m(\u001b[0m\u001b[0mread_hdf\u001b[0m\u001b[1;33m(\u001b[0m\u001b[0mdatabase_name\u001b[0m\u001b[1;33m,\u001b[0m \u001b[1;34m'meta'\u001b[0m\u001b[1;33m)\u001b[0m\u001b[1;33m[\u001b[0m\u001b[1;34m'File_Name'\u001b[0m\u001b[1;33m]\u001b[0m\u001b[1;33m)\u001b[0m\u001b[1;33m\u001b[0m\u001b[0m\n\u001b[0m\u001b[0;32m     94\u001b[0m         \u001b[0mfolders\u001b[0m \u001b[1;33m=\u001b[0m \u001b[0mnp\u001b[0m\u001b[1;33m.\u001b[0m\u001b[0marray\u001b[0m\u001b[1;33m(\u001b[0m\u001b[0mread_hdf\u001b[0m\u001b[1;33m(\u001b[0m\u001b[0mdatabase_name\u001b[0m\u001b[1;33m,\u001b[0m \u001b[1;34m'meta'\u001b[0m\u001b[1;33m)\u001b[0m\u001b[1;33m[\u001b[0m\u001b[1;34m'Folder'\u001b[0m\u001b[1;33m]\u001b[0m\u001b[1;33m)\u001b[0m\u001b[1;33m\u001b[0m\u001b[0m\n",
      "\u001b[1;32m~\\Miniconda3\\envs\\smoogle\\lib\\site-packages\\pandas\\io\\pytables.py\u001b[0m in \u001b[0;36mread_hdf\u001b[1;34m(path_or_buf, key, mode, **kwargs)\u001b[0m\n\u001b[0;32m    370\u001b[0m             raise compat.FileNotFoundError(\n\u001b[1;32m--> 371\u001b[1;33m                 'File %s does not exist' % path_or_buf)\n\u001b[0m\u001b[0;32m    372\u001b[0m \u001b[1;33m\u001b[0m\u001b[0m\n",
      "\u001b[1;31mFileNotFoundError\u001b[0m: File EEM_data.h5 does not exist",
      "\nDuring handling of the above exception, another exception occurred:\n",
      "\u001b[1;31mOSError\u001b[0m                                   Traceback (most recent call last)",
      "\u001b[1;32m<ipython-input-6-eb081efb5a84>\u001b[0m in \u001b[0;36m<module>\u001b[1;34m()\u001b[0m\n\u001b[1;32m----> 1\u001b[1;33m \u001b[0mpyeem\u001b[0m\u001b[1;33m.\u001b[0m\u001b[0mload_eems\u001b[0m\u001b[1;33m(\u001b[0m\u001b[1;34m\"EEM_data.h5\"\u001b[0m\u001b[1;33m,\u001b[0m \u001b[1;34m'example_data/'\u001b[0m\u001b[1;33m)\u001b[0m\u001b[1;33m\u001b[0m\u001b[0m\n\u001b[0m",
      "\u001b[1;32mc:\\users\\jay\\dropbox\\pyeem\\pyeem\\data_process.py\u001b[0m in \u001b[0;36mload_eems\u001b[1;34m(database_name, data_dir)\u001b[0m\n\u001b[0;32m     95\u001b[0m \u001b[1;33m\u001b[0m\u001b[0m\n\u001b[0;32m     96\u001b[0m     \u001b[1;32mexcept\u001b[0m \u001b[0mOSError\u001b[0m\u001b[1;33m:\u001b[0m\u001b[1;33m\u001b[0m\u001b[0m\n\u001b[1;32m---> 97\u001b[1;33m         \u001b[1;32mraise\u001b[0m \u001b[0mOSError\u001b[0m\u001b[1;33m(\u001b[0m\u001b[0mdatabase_name\u001b[0m \u001b[1;33m+\u001b[0m \u001b[1;34m' not found - please run pyeem.init_h5_database first'\u001b[0m\u001b[1;33m)\u001b[0m\u001b[1;33m\u001b[0m\u001b[0m\n\u001b[0m\u001b[0;32m     98\u001b[0m         \u001b[1;32mreturn\u001b[0m\u001b[1;33m\u001b[0m\u001b[0m\n\u001b[0;32m     99\u001b[0m \u001b[1;33m\u001b[0m\u001b[0m\n",
      "\u001b[1;31mOSError\u001b[0m: EEM_data.h5 not found - please run pyeem.init_h5_database first"
     ]
    }
   ],
   "source": [
    "pyeem.load_eems(\"EEM_data.h5\", 'example_data/')"
   ]
  },
  {
   "cell_type": "code",
   "execution_count": null,
   "metadata": {},
   "outputs": [],
   "source": [
    "# pyeem.blank_subtract(\"EEM_data.h5\", 'example_data/')"
   ]
  },
  {
   "cell_type": "code",
   "execution_count": null,
   "metadata": {},
   "outputs": [],
   "source": [
    "# pyeem.apply_cleanscan('EEM_Data.h5')"
   ]
  },
  {
   "cell_type": "code",
   "execution_count": null,
   "metadata": {},
   "outputs": [],
   "source": []
  },
  {
   "cell_type": "code",
   "execution_count": null,
   "metadata": {},
   "outputs": [],
   "source": [
    "import numpy as np\n",
    "import h5py\n",
    "from tqdm import tqdm\n",
    "from pyeem import cleanscan\n",
    "\n",
    "def update_eem_database(database_name, data_dict):\n",
    "    \"\"\"Helper function for updating and adding EEM data to h5 file as each step of data processing is completed:\n",
    "    \n",
    "    Args:\n",
    "        database_name (str): filename and relative path for h5 database\n",
    "        data_dict (dic): dictionary containing np.arrays of data to be saved \n",
    "    Returns:\n",
    "        none\n",
    "    \"\"\"\n",
    "    with h5py.File(database_name, 'a') as f:\n",
    "        for key in data_dict.keys():\n",
    "            # check for existing dataset so data can be overwritten, if dataset doesn't exist pass\n",
    "            try:\n",
    "                del f[key]\n",
    "                print('Updating dataset:', key)\n",
    "            except KeyError:\n",
    "                pass\n",
    "            dset = f.create_dataset(key, data_dict[key].shape, compression=\"gzip\")\n",
    "            dset[:] = data_dict[key]\n",
    "            print(\"Dataset saved:\", key, \"... Shape = \", data_dict[key].shape)\n",
    "    return\n",
    "\n",
    "def load_eems(database_name, data_dir):\n",
    "    \"\"\"Add eem spectra to the h5 file created with `init_h5_database`\n",
    "    EEMs data files must be tab delimited .dat files (standard export format from the Horibe Aqualog)\n",
    "    The first row is excitation wavelengths and the first column is emission wavelengths.\n",
    "    \n",
    "    Args:\n",
    "        database_name (str): filename and relative path for hdf5 file for saving EEMs\n",
    "        data_dir (str): relative path to where EEM data is stored\n",
    "         \n",
    "    Returns:\n",
    "        no retun - EEMs are saved to h5 file for processing with pyeem functions\n",
    "    \n",
    "    \"\"\"\n",
    "    from pandas import read_hdf\n",
    "\n",
    "    try:\n",
    "        #load EEM file names from the metadata stored in the h5 database as np.array\n",
    "        file_names = np.array(read_hdf(database_name, 'meta')['File_Name'])\n",
    "        folders = np.array(read_hdf(database_name, 'meta')['Folder'])\n",
    "        \n",
    "    except OSError:\n",
    "        raise OSError(database_name + ' not found - please run pyeem.init_h5_database first')\n",
    "        return\n",
    "\n",
    "    #test if function has already run (dataset 'raw eems should not exist')\n",
    "    with h5py.File(database_name, 'r') as f:\n",
    "        try:\n",
    "            test = f['raw_eems'][:]\n",
    "            raise Exception('Load eems function has already run on this dataset')\n",
    "        except KeyError:\n",
    "            pass\n",
    "            \n",
    "                          \n",
    "    #initialize list to store data\n",
    "    eem_list = []\n",
    "    \n",
    "    for i, (folder, file) in enumerate(zip(folders, file_names)):\n",
    "        eem_file = str(data_dir) + str(folder) + '/' + str(file) + '.dat'\n",
    "        # first row of EEM file is excitation wavelengths, first column is emission wavelengths\n",
    "        eem = np.genfromtxt(eem_file, delimiter = '\\t')\n",
    "        eem_list.append(eem)\n",
    "    # convert data to np arrays for saving\n",
    "    eem_list = np.array(eem_list)\n",
    "    \n",
    "    print('EEM data collection complete, final data shape (Sample x Ex+1 x Em+1):',eem_list.shape)\n",
    "    \n",
    "    # save data into the h5 file\n",
    "    \n",
    "    update_eem_database(database_name, {'raw_eems': eem_list,\n",
    "                                        'eems': eem_list})\n",
    "    return           \n",
    "\n",
    "\n",
    "load_eems(\"EEM_Data.h5\", 'example_data/')"
   ]
  },
  {
   "cell_type": "code",
   "execution_count": null,
   "metadata": {},
   "outputs": [],
   "source": [
    "i = 1\n",
    "excitation  = eems_list[i,0,1:]\n",
    "emission = eems_list[i,1:,0]\n",
    "eem_data = eems_list[i,1:,1:]"
   ]
  },
  {
   "cell_type": "code",
   "execution_count": null,
   "metadata": {},
   "outputs": [],
   "source": [
    "eem_data.shape"
   ]
  },
  {
   "cell_type": "code",
   "execution_count": null,
   "metadata": {},
   "outputs": [],
   "source": [
    "import h5py\n",
    "with h5py.File(\"EEM_Data.h5\", 'r') as f:\n",
    "    \n",
    "#     print('The following data is available in', raw_data_name+'.hdf5')\n",
    "#     print('-' * 60)\n",
    "#     print(\"Key:\".ljust(20,' ')) #,\"Shape:\".ljust(18,' '),\"Type:\".ljust(10,' '))\n",
    "#     print('-' * 60)\n",
    "    for key in f.keys():\n",
    "        data = f[key]\n",
    "        print(key.ljust(20,' '))#, str(data.shape).ljust(18,' '), str(data.dtype).ljust(10,' '))"
   ]
  },
  {
   "cell_type": "code",
   "execution_count": null,
   "metadata": {},
   "outputs": [],
   "source": []
  },
  {
   "cell_type": "code",
   "execution_count": null,
   "metadata": {},
   "outputs": [],
   "source": []
  },
  {
   "cell_type": "code",
   "execution_count": null,
   "metadata": {},
   "outputs": [],
   "source": [
    "# step 4 - use the data processing fucntions for all operations\n",
    "# TO DO - create some sort of log for this porcess..."
   ]
  },
  {
   "cell_type": "code",
   "execution_count": null,
   "metadata": {},
   "outputs": [],
   "source": [
    "# finally - display contour plots of the processing steps \n",
    "# (for now just code this in the notebook, maybe add a finction later)"
   ]
  }
 ],
 "metadata": {
  "kernelspec": {
   "display_name": "Python 3",
   "language": "python",
   "name": "python3"
  },
  "language_info": {
   "codemirror_mode": {
    "name": "ipython",
    "version": 3
   },
   "file_extension": ".py",
   "mimetype": "text/x-python",
   "name": "python",
   "nbconvert_exporter": "python",
   "pygments_lexer": "ipython3",
   "version": "3.6.6"
  }
 },
 "nbformat": 4,
 "nbformat_minor": 2
}
