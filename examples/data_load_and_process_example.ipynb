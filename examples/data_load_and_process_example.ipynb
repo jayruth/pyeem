{
 "cells": [
  {
   "cell_type": "markdown",
   "metadata": {},
   "source": [
    "# Example of loading and processing raw EEM data\n",
    "\n",
    "* Required meta data columns in CSV/excel\n",
    "* Loading EEMs\n",
    "* Process them, including blank subtraction\n",
    "* Example with different metadata and no blank subtraction or Raman normalization\n",
    "* Create function to show porcessing steps\n",
    "    - How to store the order this was conducted in?\n"
   ]
  },
  {
   "cell_type": "code",
   "execution_count": 3,
   "metadata": {},
   "outputs": [],
   "source": [
    "import sys\n",
    "sys.path.append('..')\n",
    "import pyeem"
   ]
  },
  {
   "cell_type": "code",
   "execution_count": 1,
   "metadata": {},
   "outputs": [],
   "source": [
    "# step 1 - generate a pandas dataframe with the required meta data\n",
    "\n",
    "# the return of this function should be a pandas dataframe that will be saved to H5 with the EEM datasets\n",
    "# I'll make a function for importing it form the spreadsheet template I'm using,\n",
    "# but also make it work with any pandas data frame"
   ]
  },
  {
   "cell_type": "code",
   "execution_count": 3,
   "metadata": {},
   "outputs": [],
   "source": [
    "# step 2  - store meta data in H5 file (need to figure out how to do this!)"
   ]
  },
  {
   "cell_type": "code",
   "execution_count": 4,
   "metadata": {},
   "outputs": [],
   "source": [
    "# step 3 - load raw EEMs into H5 (should be almost the same as smoogle)"
   ]
  },
  {
   "cell_type": "code",
   "execution_count": 5,
   "metadata": {},
   "outputs": [],
   "source": [
    "# step 4 - use the data processing fucntions for all operations\n",
    "# TO DO - create some sort of log for this porcess..."
   ]
  },
  {
   "cell_type": "code",
   "execution_count": 6,
   "metadata": {},
   "outputs": [],
   "source": [
    "# finally - display contour plots of the processing steps \n",
    "# (for now just code this in the notebook, maybe add a finction later)"
   ]
  }
 ],
 "metadata": {
  "kernelspec": {
   "display_name": "Python 3",
   "language": "python",
   "name": "python3"
  },
  "language_info": {
   "codemirror_mode": {
    "name": "ipython",
    "version": 3
   },
   "file_extension": ".py",
   "mimetype": "text/x-python",
   "name": "python",
   "nbconvert_exporter": "python",
   "pygments_lexer": "ipython3",
   "version": "3.6.6"
  }
 },
 "nbformat": 4,
 "nbformat_minor": 2
}
