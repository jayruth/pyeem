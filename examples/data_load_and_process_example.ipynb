{
 "cells": [
  {
   "cell_type": "markdown",
   "metadata": {},
   "source": [
    "# Example of loading and processing raw EEM data\n"
   ]
  },
  {
   "cell_type": "code",
   "execution_count": 1,
   "metadata": {},
   "outputs": [
    {
     "name": "stdout",
     "output_type": "stream",
     "text": [
      "pyeem version 0.1\n"
     ]
    }
   ],
   "source": [
    "import pyeem"
   ]
  },
  {
   "cell_type": "code",
   "execution_count": 2,
   "metadata": {},
   "outputs": [
    {
     "name": "stdout",
     "output_type": "stream",
     "text": [
      "pyeem version 0.1\n"
     ]
    }
   ],
   "source": [
    "# for development - remove when example notebook is complete\n",
    "def reload_pyeem():\n",
    "    import importlib\n",
    "    importlib.reload(pyeem.data_process)\n",
    "    importlib.reload(pyeem)\n",
    "    return\n",
    "reload_pyeem()"
   ]
  },
  {
   "cell_type": "markdown",
   "metadata": {},
   "source": [
    "### Step 1 - generate a pandas dataframe with the required meta data"
   ]
  },
  {
   "cell_type": "code",
   "execution_count": 3,
   "metadata": {},
   "outputs": [],
   "source": [
    "meta_data = pyeem.load_eem_meta_data('example_data\\Description_Example.xlsx')"
   ]
  },
  {
   "cell_type": "markdown",
   "metadata": {},
   "source": [
    "- The columns 'File_Name' and 'Folder' are required, they point to the data files containing the eems to be loaded.\n",
    "- 'Blank' and 'Raman_Area' are required if `pyeem.blank_subtract` and `pyeem.raman_normalize` functions will be used.\n",
    "- All other columns are optional, as many columns as needed to describe the data may be included."
   ]
  },
  {
   "cell_type": "code",
   "execution_count": 4,
   "metadata": {},
   "outputs": [
    {
     "data": {
      "text/html": [
       "<div>\n",
       "<style scoped>\n",
       "    .dataframe tbody tr th:only-of-type {\n",
       "        vertical-align: middle;\n",
       "    }\n",
       "\n",
       "    .dataframe tbody tr th {\n",
       "        vertical-align: top;\n",
       "    }\n",
       "\n",
       "    .dataframe thead th {\n",
       "        text-align: right;\n",
       "    }\n",
       "</style>\n",
       "<table border=\"1\" class=\"dataframe\">\n",
       "  <thead>\n",
       "    <tr style=\"text-align: right;\">\n",
       "      <th></th>\n",
       "      <th>File_Name</th>\n",
       "      <th>Folder</th>\n",
       "      <th>Blank</th>\n",
       "      <th>Raman_Area</th>\n",
       "      <th>Desc</th>\n",
       "      <th>Type</th>\n",
       "    </tr>\n",
       "  </thead>\n",
       "  <tbody>\n",
       "    <tr>\n",
       "      <th>0</th>\n",
       "      <td>ZEF0119_Cig_5ugmL</td>\n",
       "      <td>20180227</td>\n",
       "      <td>20180227_BCycHex0p5sec</td>\n",
       "      <td>1146.3</td>\n",
       "      <td>Cigarette 5 µg/mL</td>\n",
       "      <td>Sample</td>\n",
       "    </tr>\n",
       "    <tr>\n",
       "      <th>1</th>\n",
       "      <td>ZEF0132_Diesel_5ugmL</td>\n",
       "      <td>20180227</td>\n",
       "      <td>20180227_BCycHex0p5sec</td>\n",
       "      <td>1146.3</td>\n",
       "      <td>Diesel 5 µg/mL</td>\n",
       "      <td>Sample</td>\n",
       "    </tr>\n",
       "    <tr>\n",
       "      <th>2</th>\n",
       "      <td>ZEF00134_Wood_5ugmL</td>\n",
       "      <td>20180227</td>\n",
       "      <td>20180227_BCycHex0p5sec</td>\n",
       "      <td>1146.3</td>\n",
       "      <td>Wood Smoke 5 µg/mL</td>\n",
       "      <td>Sample</td>\n",
       "    </tr>\n",
       "    <tr>\n",
       "      <th>3</th>\n",
       "      <td>20180227_BCycHex0p5sec</td>\n",
       "      <td>20180227</td>\n",
       "      <td>20180227_BCycHex0p5sec</td>\n",
       "      <td>1146.3</td>\n",
       "      <td>2018-01-27 Cyclohexane Blank</td>\n",
       "      <td>Blank</td>\n",
       "    </tr>\n",
       "  </tbody>\n",
       "</table>\n",
       "</div>"
      ],
      "text/plain": [
       "                File_Name    Folder                   Blank  Raman_Area  \\\n",
       "0       ZEF0119_Cig_5ugmL  20180227  20180227_BCycHex0p5sec      1146.3   \n",
       "1    ZEF0132_Diesel_5ugmL  20180227  20180227_BCycHex0p5sec      1146.3   \n",
       "2     ZEF00134_Wood_5ugmL  20180227  20180227_BCycHex0p5sec      1146.3   \n",
       "3  20180227_BCycHex0p5sec  20180227  20180227_BCycHex0p5sec      1146.3   \n",
       "\n",
       "                           Desc    Type  \n",
       "0             Cigarette 5 µg/mL  Sample  \n",
       "1                Diesel 5 µg/mL  Sample  \n",
       "2            Wood Smoke 5 µg/mL  Sample  \n",
       "3  2018-01-27 Cyclohexane Blank   Blank  "
      ]
     },
     "execution_count": 4,
     "metadata": {},
     "output_type": "execute_result"
    }
   ],
   "source": [
    "meta_data"
   ]
  },
  {
   "cell_type": "markdown",
   "metadata": {},
   "source": [
    "### Step 2 - Initialize a h5 file and save the meta data in it."
   ]
  },
  {
   "cell_type": "code",
   "execution_count": 5,
   "metadata": {},
   "outputs": [
    {
     "name": "stdout",
     "output_type": "stream",
     "text": [
      "overwriting EEM_data.h5\n"
     ]
    }
   ],
   "source": [
    "pyeem.init_h5_database(\"EEM_data.h5\", meta_data, overwrite=True)"
   ]
  },
  {
   "cell_type": "code",
   "execution_count": 6,
   "metadata": {},
   "outputs": [
    {
     "name": "stdout",
     "output_type": "stream",
     "text": [
      "EEM data collection complete, final data shape (Sample x Ex+1 x Em+1): (4, 251, 152)\n",
      "Dataset saved: raw_eems ... Shape =  (4, 251, 152)\n",
      "Dataset saved: eems ... Shape =  (4, 251, 152)\n"
     ]
    }
   ],
   "source": [
    "pyeem.load_eems(\"EEM_data.h5\", 'example_data/')"
   ]
  },
  {
   "cell_type": "code",
   "execution_count": 7,
   "metadata": {},
   "outputs": [
    {
     "name": "stdout",
     "output_type": "stream",
     "text": [
      "Dataset saved: blanks_subtracted ... Shape =  (4, 251, 152)\n",
      "Updating dataset: eems\n",
      "Dataset saved: eems ... Shape =  (4, 251, 152)\n"
     ]
    }
   ],
   "source": [
    "pyeem.blank_subtract(\"EEM_data.h5\")"
   ]
  },
  {
   "cell_type": "code",
   "execution_count": 8,
   "metadata": {},
   "outputs": [
    {
     "name": "stdout",
     "output_type": "stream",
     "text": [
      "Removing Scatter\n"
     ]
    },
    {
     "name": "stderr",
     "output_type": "stream",
     "text": [
      "100%|█████████████████████████████████████████████████████████████████████████████████| 4/4 [00:05<00:00,  1.40s/it]\n"
     ]
    },
    {
     "name": "stdout",
     "output_type": "stream",
     "text": [
      "Dataset saved: scatter_removed ... Shape =  (4, 251, 152)\n",
      "Dataset saved: excised_values ... Shape =  (4, 251, 152)\n",
      "Updating dataset: eems\n",
      "Dataset saved: eems ... Shape =  (4, 251, 152)\n"
     ]
    }
   ],
   "source": [
    "pyeem.apply_cleanscan('EEM_Data.h5')"
   ]
  },
  {
   "cell_type": "code",
   "execution_count": 9,
   "metadata": {},
   "outputs": [
    {
     "name": "stderr",
     "output_type": "stream",
     "text": [
      "100%|████████████████████████████████████████████████████████████████████████████████| 4/4 [00:00<00:00, 202.69it/s]\n"
     ]
    },
    {
     "name": "stdout",
     "output_type": "stream",
     "text": [
      "Finished smoothing, negative values set to zero\n",
      "Dataset saved: eems_smooth ... Shape =  (4, 251, 152)\n",
      "Updating dataset: eems\n",
      "Dataset saved: eems ... Shape =  (4, 251, 152)\n"
     ]
    }
   ],
   "source": [
    "pyeem.apply_spectrasmooth('EEM_Data.h5')"
   ]
  },
  {
   "cell_type": "code",
   "execution_count": 10,
   "metadata": {},
   "outputs": [
    {
     "name": "stdout",
     "output_type": "stream",
     "text": [
      "EEMs cropped according to crop_spec\n",
      "{'ex': (500, 224), 'em': (245.917, 572.284), 'ex_ind': (0, 138), 'em_ind': (0, 142)}\n",
      "Starting shape (4, 251, 152) (Sample x Em+1 x Ex+1)\n",
      "Cropped shape (4, 144, 140) (Sample x Em+1 x Ex+1)\n",
      "Dataset saved: eems_cropped ... Shape =  (4, 144, 140)\n",
      "Updating dataset: eems\n",
      "Dataset saved: eems ... Shape =  (4, 144, 140)\n"
     ]
    }
   ],
   "source": [
    "pyeem.crop_eems('EEM_Data.h5', crop_spec = {'ex': (500, 224), 'em': (245.917, 572.284)})"
   ]
  },
  {
   "cell_type": "code",
   "execution_count": 11,
   "metadata": {},
   "outputs": [
    {
     "name": "stderr",
     "output_type": "stream",
     "text": [
      "100%|█████████████████████████████████████████████████████████████████████████████████| 4/4 [00:00<00:00, 22.06it/s]\n"
     ]
    },
    {
     "name": "stdout",
     "output_type": "stream",
     "text": [
      "Dataset saved: eems_ru ... Shape =  (4, 144, 140)\n",
      "Updating dataset: eems\n",
      "Dataset saved: eems ... Shape =  (4, 144, 140)\n"
     ]
    }
   ],
   "source": [
    "pyeem.raman_normalize('EEM_Data.h5')"
   ]
  },
  {
   "cell_type": "markdown",
   "metadata": {},
   "source": [
    "##  As of 5/30, the basic data pre-processing functions are working as planned. \n",
    "I still need to:\n",
    " * Create a log of which order the processing functiond run and and parameters used when applicable.\n",
    " * Fill in some missing documentation\n",
    " * Make smoothing parmeters adjustable"
   ]
  },
  {
   "cell_type": "code",
   "execution_count": 12,
   "metadata": {},
   "outputs": [
    {
     "name": "stdout",
     "output_type": "stream",
     "text": [
      "4\n"
     ]
    },
    {
     "data": {
      "application/vnd.jupyter.widget-view+json": {
       "model_id": "660991d1e5ee4a23be5bbcd10f13151d",
       "version_major": 2,
       "version_minor": 0
      },
      "text/plain": [
       "interactive(children=(IntSlider(value=1, description='i', max=3), Output()), _dom_classes=('widget-interact',)…"
      ]
     },
     "metadata": {},
     "output_type": "display_data"
    }
   ],
   "source": [
    "# Here is a prototype function for displaying plots of the processed data using a slider\n",
    "# Could be more useful to have a drop down or an option to enter the index of a sample in a box\n",
    "\n",
    "import h5py\n",
    "import matplotlib.pyplot as plt\n",
    "from ipywidgets import interact, fixed\n",
    "from pandas import read_hdf\n",
    "import numpy as np\n",
    "\n",
    "def view_eems(database_name):\n",
    "    file_names = np.array(read_hdf(database_name, 'meta')['File_Name'])\n",
    "    def plot_eem(database_name, i):\n",
    "        \n",
    "        fig = plt.figure(figsize=(4,3))\n",
    "        with h5py.File(database_name, 'r') as f:\n",
    "            eem = f['eems'][i]\n",
    "        ex = eem[0,1:]\n",
    "        em = eem[1:,0]\n",
    "        fl = eem[1:,1:]\n",
    "        plt.contourf(ex, em, fl)\n",
    "        plt.colorbar()\n",
    "        plt.title(file_names[i])\n",
    "        return \n",
    "    \n",
    "    print(file_names.shape[0])\n",
    "    interact(plot_eem, database_name=fixed(database_name), i=(0,file_names.shape[0]-1))\n",
    "    return\n",
    "\n",
    "view_eems('EEM_Data.h5')\n",
    "    "
   ]
  },
  {
   "cell_type": "code",
   "execution_count": 13,
   "metadata": {},
   "outputs": [
    {
     "name": "stdout",
     "output_type": "stream",
     "text": [
      "blanks_subtracted   \n",
      "eems                \n",
      "eems_cropped        \n",
      "eems_ru             \n",
      "eems_smooth         \n",
      "excised_values      \n",
      "meta                \n",
      "raw_eems            \n",
      "scatter_removed     \n"
     ]
    }
   ],
   "source": [
    "# I'd like to create or find some sort if summary function that can display what keys are available in the H5 file\n",
    "# Here is something that lists the keys, but not additional info.\n",
    "import h5py\n",
    "with h5py.File(\"EEM_Data.h5\", 'r') as f:\n",
    "    for key in f.keys():\n",
    "        data = f[key]\n",
    "        print(key.ljust(20,' '))"
   ]
  },
  {
   "cell_type": "code",
   "execution_count": null,
   "metadata": {},
   "outputs": [],
   "source": []
  }
 ],
 "metadata": {
  "kernelspec": {
   "display_name": "Python 3",
   "language": "python",
   "name": "python3"
  },
  "language_info": {
   "codemirror_mode": {
    "name": "ipython",
    "version": 3
   },
   "file_extension": ".py",
   "mimetype": "text/x-python",
   "name": "python",
   "nbconvert_exporter": "python",
   "pygments_lexer": "ipython3",
   "version": "3.6.6"
  }
 },
 "nbformat": 4,
 "nbformat_minor": 2
}
